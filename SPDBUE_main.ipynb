{
 "cells": [
  {
   "cell_type": "code",
   "execution_count": 1,
   "id": "hawaiian-mining",
   "metadata": {},
   "outputs": [
    {
     "data": {
      "text/plain": [
       "'\\npip install selenium\\npip install webdrivermanager\\n\\nInstall the driver for Firefox and Chrome\\n\\nwebdrivermanager firefox chrome --linkpath /usr/local/bin\\n\\n'"
      ]
     },
     "execution_count": 1,
     "metadata": {},
     "output_type": "execute_result"
    }
   ],
   "source": [
    "#Importing packages\n",
    "import os\n",
    "import re\n",
    "import requests\n",
    "from bs4 import BeautifulSoup, SoupStrainer\n",
    "import openpyxl \n",
    "import time\n",
    "from tqdm import tqdm\n",
    "from selenium import webdriver\n",
    "from selenium.webdriver.firefox.options import Options\n",
    "\n",
    "Options = Options()\n",
    "Options.headless = True"
   ]
  },
  {
   "cell_type": "code",
   "execution_count": 2,
   "id": "medical-thirty",
   "metadata": {},
   "outputs": [],
   "source": [
    "# Give the location of the working directory.\n",
    "path = \"./test\" # Change this to your directory of choice. The default is where the notebook is located.\n",
    "\n",
    "# This it will create the directory if there is no such one.\n",
    "if not os.path.isdir(path):\n",
    "    os.makedirs(path)"
   ]
  },
  {
   "cell_type": "code",
   "execution_count": 8,
   "id": "eligible-petersburg",
   "metadata": {},
   "outputs": [],
   "source": [
    "# Place the downloaded Excel file, renamed to what ever your search result represents.\n",
    "# Make sure you have the original search criteria and downloaded excel copied somewhere.\n",
    "\n",
    "# Define the name of the file. \n",
    "xlsx_f = \"ATP_synthase_test.xlsx\" #This file is the test file.\n",
    "\n",
    "# You can also put the fasta download if desired. It is also fine if it is commented out like this.\n",
    "#fasta_f = \"ATP_synthase_test.fasta\" #This file is the test file."
   ]
  },
  {
   "cell_type": "code",
   "execution_count": null,
   "id": "suffering-anaheim",
   "metadata": {},
   "outputs": [],
   "source": [
    "if fasta_f != None:\n",
    "    fasta_d = {}\n",
    "    with  open(\"%s/%s\"%(path,fasta_f),\"r\") as F:\n",
    "        seq = []\n",
    "        for line in F:\n",
    "            if line[0]==\">\":\n",
    "                if len(seq)>0:\n",
    "                    fasta_d[name] = (\"\").join(seq)\n",
    "                name = line.split(\">\")[1].split(\"\\n\")[0].split(\"|\")[1]\n",
    "                seq = []\n",
    "            else:\n",
    "                #print(name.split(\"|\")[1])\n",
    "                seq.append(line.split(\"\\n\")[0])\n",
    "        fasta_d[name] = (\"\").join(seq)\n",
    "    F.close()\n",
    "else:\n",
    "    pass"
   ]
  },
  {
   "cell_type": "code",
   "execution_count": 4,
   "id": "working-translator",
   "metadata": {},
   "outputs": [],
   "source": [
    "# Making a working directory for the excel file, and within it a folder for PDB files to go into.\n",
    "\n",
    "if not os.path.isdir(\"%s/%s/StructureFiles\"%(path,xlsx_f.split(\".\")[0])):\n",
    "    os.makedirs(\"%s/%s/StructureFiles\"%(path,xlsx_f.split(\".\")[0]))    "
   ]
  },
  {
   "cell_type": "code",
   "execution_count": 5,
   "id": "solved-forward",
   "metadata": {},
   "outputs": [
    {
     "name": "stderr",
     "output_type": "stream",
     "text": [
      "/Users/danyamamotoevans/.pyenv/versions/3.6.1/lib/python3.6/site-packages/openpyxl/styles/stylesheet.py:226: UserWarning: Workbook contains no default style, apply openpyxl's default\n",
      "  warn(\"Workbook contains no default style, apply openpyxl's default\")\n"
     ]
    }
   ],
   "source": [
    "# Opening the Excel file \n",
    "\n",
    "# workbook object is created \n",
    "wb_obj = openpyxl.load_workbook(\"%s/%s\"%(path,xlsx_f))   \n",
    "\n",
    "# Get workbook active sheet object \n",
    "# from the active attribute \n",
    "sheet_obj = wb_obj.active \n",
    "\n",
    "\n",
    "header = []\n",
    "for i in range(len(tuple(sheet_obj.rows)[0])):\n",
    "    cell = sheet_obj.cell(row = 1, column = i+1)\n",
    "    header.append(cell.value)\n",
    "\n",
    "csv_name = \"%s/%s/Download_summary.csv\"%(path,xlsx_f.split(\".\")[0])\n",
    "csv_LL= [[\"UniProt_entry\",\"PDB_file\",\"Protein_sequence\",\"Protein_length\"]]\n",
    "    \n"
   ]
  },
  {
   "cell_type": "code",
   "execution_count": 9,
   "id": "bronze-macintosh",
   "metadata": {},
   "outputs": [
    {
     "name": "stderr",
     "output_type": "stream",
     "text": [
      "100%|██████████| 10/10 [01:31<00:00,  9.18s/it]\n"
     ]
    }
   ],
   "source": [
    "print(\"Scraping the Uniprot to download structure files.\\n\\nPlease be paitient since each file needs ~10 secs to download.\")\n",
    "\n",
    "for i in tqdm(range(len(tuple(sheet_obj.rows))-1)):\n",
    "    row = i+2\n",
    "    entry = sheet_obj.cell(row = row, column = 1).value\n",
    "    url   = \"https://alphafold.ebi.ac.uk/entry/%s\"%(entry)\n",
    "\n",
    "    driver = webdriver.Firefox(options=Options)\n",
    "    driver.get(url)\n",
    "    time.sleep(3)                                            # wait for the web page to load\n",
    "    render = driver.page_source                              # get the page source HTML\n",
    "    driver.quit()                                            # quit ChromeDriver\n",
    "    soup = BeautifulSoup(render, parse_only=SoupStrainer('a'))\n",
    "    links= soup.find_all('a', href=True)\n",
    "\n",
    "        \n",
    "    for link in links:\n",
    "        if ('.pdb' in link.get('href', [])):\n",
    "            i += 1\n",
    "            remote_url = link['href']\n",
    "            #print(remote_url)\n",
    "            local_f =  \"%s/%s/StructureFiles/%s\"%(path,xlsx_f.split(\".\")[0],remote_url.split(\"/\")[-1])\n",
    "            PDB_availability = \"N/A\"\n",
    "            if(len(remote_url)>10):\n",
    "                PDB_availability = \"Yes\"\n",
    "                data = requests.get(remote_url)\n",
    "                # Save file data to local copy\n",
    "                with open(local_f, 'wb')as file:\n",
    "                    file.write(data.content)\n",
    "                file.close()\n",
    "                PDB_file = remote_url.split(\"/\")[-1]\n",
    "            if fasta_f != None:\n",
    "                l = [entry,PDB_file,fasta_d[entry],len(fasta_d[entry])]\n",
    "                csv_LL.append(l)\n",
    "            else:\n",
    "                l = [entry,PDB_file]\n",
    "                csv_LL.append(l)\n",
    "    \n",
    "with open(csv_name,\"w\") as F:\n",
    "    for L in csv_LL:\n",
    "        F.write(\"%s\\n\" %  (\",\").join( [str(i) for i in L]))\n",
    "    F.close()"
   ]
  }
 ],
 "metadata": {
  "kernelspec": {
   "display_name": "Python 3",
   "language": "python",
   "name": "python3"
  },
  "language_info": {
   "codemirror_mode": {
    "name": "ipython",
    "version": 3
   },
   "file_extension": ".py",
   "mimetype": "text/x-python",
   "name": "python",
   "nbconvert_exporter": "python",
   "pygments_lexer": "ipython3",
   "version": "3.6.1"
  }
 },
 "nbformat": 4,
 "nbformat_minor": 5
}
